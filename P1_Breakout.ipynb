{
 "cells": [
  {
   "cell_type": "markdown",
   "id": "e439c0fa",
   "metadata": {},
   "source": [
    "# 1. Importing"
   ]
  },
  {
   "cell_type": "code",
   "execution_count": null,
   "id": "a456d34b",
   "metadata": {},
   "outputs": [],
   "source": [
    "import gym \n",
    "from stable_baselines3 import A2C\n",
    "from stable_baselines3.common.vec_env import VecFrameStack\n",
    "from stable_baselines3.common.evaluation import evaluate_policy\n",
    "from stable_baselines3.common.env_util import make_atari_env\n",
    "import os"
   ]
  },
  {
   "cell_type": "markdown",
   "id": "a7db1c8f",
   "metadata": {},
   "source": [
    "# 2. Testing Environment"
   ]
  },
  {
   "cell_type": "code",
   "execution_count": null,
   "id": "c15e3689",
   "metadata": {},
   "outputs": [],
   "source": [
    "# http://www.atarimania.com/roms/Roms.rar ---> download this file and extract it on the folder you are working in order\n",
    "# to be able to test and use the \"Break Out\" environment."
   ]
  },
  {
   "cell_type": "code",
   "execution_count": null,
   "id": "4fdcb774",
   "metadata": {},
   "outputs": [],
   "source": [
    "!python -m atari_py.import_roms .\\ROMS\n",
    "# You might have a problem with a missing DLL file (ale_c.dll). If that happens I solved this by issuing this command\n",
    "# on a conda command line: conda install -c conda-forge atari_py"
   ]
  },
  {
   "cell_type": "code",
   "execution_count": null,
   "id": "693b635b",
   "metadata": {},
   "outputs": [],
   "source": [
    "environment_name = \"Breakout-v0\""
   ]
  },
  {
   "cell_type": "code",
   "execution_count": null,
   "id": "a58a465d",
   "metadata": {},
   "outputs": [],
   "source": [
    "env = gym.make(environment_name)"
   ]
  },
  {
   "cell_type": "code",
   "execution_count": null,
   "id": "cc933d58",
   "metadata": {},
   "outputs": [],
   "source": [
    "env.reset() # gives a reset of the environment"
   ]
  },
  {
   "cell_type": "code",
   "execution_count": null,
   "id": "363f057a",
   "metadata": {},
   "outputs": [],
   "source": [
    "env.action_space # it is a discrete space with 4 possible actions"
   ]
  },
  {
   "cell_type": "code",
   "execution_count": null,
   "id": "e252c26c",
   "metadata": {},
   "outputs": [],
   "source": [
    "env.observation_space # probably an image"
   ]
  },
  {
   "cell_type": "code",
   "execution_count": null,
   "id": "ce9399e3",
   "metadata": {},
   "outputs": [],
   "source": [
    "episodes = 5\n",
    "for episode in range (1, episodes+1):\n",
    "    obs = env.reset()\n",
    "    done = False\n",
    "    score = 0\n",
    "    \n",
    "    while not done:\n",
    "        env.render()\n",
    "        action = env.action_space.sample()\n",
    "        obs, reward, done, info = env.step(action)\n",
    "        score+=reward\n",
    "    print('Episode: {}, Score: {}'.format(episode, score))\n",
    "env.close()\n",
    "    "
   ]
  },
  {
   "cell_type": "markdown",
   "id": "0f3122aa",
   "metadata": {},
   "source": [
    "# 3. Vectorizing and Training Model\n",
    " ### We vectorize the environment in order to train in parallel thus improving the speed of agent training."
   ]
  },
  {
   "cell_type": "code",
   "execution_count": null,
   "id": "9ae358db",
   "metadata": {},
   "outputs": [],
   "source": [
    "env = make_atari_env('Breakout-v0', n_envs=4, seed=0)\n",
    "env = VecFrameStack(env, n_stack=4)"
   ]
  },
  {
   "cell_type": "code",
   "execution_count": null,
   "id": "3dca3df2",
   "metadata": {},
   "outputs": [],
   "source": [
    "env.render() # The image shows we have 4 environments in parallel."
   ]
  },
  {
   "cell_type": "code",
   "execution_count": null,
   "id": "d88b8a0b",
   "metadata": {},
   "outputs": [],
   "source": [
    "env.close() # Closing the environment window image."
   ]
  },
  {
   "cell_type": "code",
   "execution_count": null,
   "id": "0f3de551",
   "metadata": {},
   "outputs": [],
   "source": [
    "log_path = os.path.join('Training', 'Logs')\n",
    "model = A2C('CnnPolicy', env, verbose=1, tensorboard_log=log_path)"
   ]
  },
  {
   "cell_type": "code",
   "execution_count": null,
   "id": "f610e4fd",
   "metadata": {},
   "outputs": [],
   "source": [
    "model.learn(total_timesteps=100000)"
   ]
  },
  {
   "cell_type": "markdown",
   "id": "b357ac69",
   "metadata": {},
   "source": [
    "# 4. Save and Reload Model"
   ]
  },
  {
   "cell_type": "code",
   "execution_count": null,
   "id": "10366f98",
   "metadata": {},
   "outputs": [],
   "source": [
    "a2c_path = os.path.join('Training', 'Saved Models', 'A2C_100K_model')"
   ]
  },
  {
   "cell_type": "code",
   "execution_count": null,
   "id": "606f0b61",
   "metadata": {},
   "outputs": [],
   "source": [
    "model.save(a2c_path)"
   ]
  },
  {
   "cell_type": "code",
   "execution_count": null,
   "id": "122f1651",
   "metadata": {},
   "outputs": [],
   "source": [
    "del model"
   ]
  },
  {
   "cell_type": "code",
   "execution_count": null,
   "id": "14ed04e9",
   "metadata": {},
   "outputs": [],
   "source": [
    "env = make_atari_env('Breakout-v0', n_envs=1, seed=0) # n_envs=1 for testing we can use just one environment.\n",
    "env = VecFrameStack(env, n_stack=4) # n_stack must continue 9 because it is how the model was trained."
   ]
  },
  {
   "cell_type": "code",
   "execution_count": null,
   "id": "0cc1243d",
   "metadata": {},
   "outputs": [],
   "source": [
    "model = A2C.load(a2c_path, env)"
   ]
  },
  {
   "cell_type": "markdown",
   "id": "d7537407",
   "metadata": {},
   "source": [
    "# 5 Evaluate and testing"
   ]
  },
  {
   "cell_type": "code",
   "execution_count": null,
   "id": "cd2261de",
   "metadata": {},
   "outputs": [],
   "source": [
    "evaluate_policy(model, env, n_eval_episodes=10, render=True)"
   ]
  },
  {
   "cell_type": "code",
   "execution_count": null,
   "id": "fa01d1fd",
   "metadata": {},
   "outputs": [],
   "source": [
    "env.close()"
   ]
  }
 ],
 "metadata": {
  "kernelspec": {
   "display_name": "Python 3 (ipykernel)",
   "language": "python",
   "name": "python3"
  },
  "language_info": {
   "codemirror_mode": {
    "name": "ipython",
    "version": 3
   },
   "file_extension": ".py",
   "mimetype": "text/x-python",
   "name": "python",
   "nbconvert_exporter": "python",
   "pygments_lexer": "ipython3",
   "version": "3.7.4"
  }
 },
 "nbformat": 4,
 "nbformat_minor": 5
}
